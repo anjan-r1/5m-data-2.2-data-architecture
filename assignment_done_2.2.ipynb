{
 "cells": [
  {
   "cell_type": "markdown",
   "id": "e7da89c3",
   "metadata": {},
   "source": [
    "# Assignment\n",
    "\n",
    "## Brief\n",
    "\n",
    "Write the Python codes for the following questions.\n",
    "\n",
    "## Instructions\n",
    "\n",
    "Paste the answer as Python in the answer code section below each question."
   ]
  },
  {
   "cell_type": "code",
   "execution_count": 4,
   "id": "0095dadf",
   "metadata": {},
   "outputs": [
    {
     "name": "stdout",
     "output_type": "stream",
     "text": [
      "bar\n"
     ]
    }
   ],
   "source": [
    "\"\"\"Basic connection example.\n",
    "\"\"\"\n",
    "\n",
    "import redis\n",
    "\n",
    "r = redis.Redis(\n",
    "    host='redis-18381.c90.us-east-1-3.ec2.redns.redis-cloud.com',\n",
    "    port=18381,\n",
    "    decode_responses=True,\n",
    "    username=\"default\",\n",
    "    password=\"LsahXxFiflg5SxwUhGxEZTSzxspuSKA5\",\n",
    ")\n",
    "\n",
    "success = r.set('foo', 'bar')\n",
    "# True\n",
    "\n",
    "result = r.get('foo')\n",
    "print(result)\n",
    "# >>> bar\n",
    "\n"
   ]
  },
  {
   "cell_type": "markdown",
   "id": "2cfe34c5",
   "metadata": {},
   "source": [
    "### Question 1\n",
    "\n",
    "Question: How would you create a new hash in Redis to store information about a person, with `john_doe` as the key and include the name (`John Doe`), age (`35`), and email address (`john@email.com`)?"
   ]
  },
  {
   "cell_type": "markdown",
   "id": "08197fc3",
   "metadata": {},
   "source": [
    "Answer:"
   ]
  },
  {
   "cell_type": "code",
   "execution_count": 7,
   "id": "3f46f915",
   "metadata": {},
   "outputs": [
    {
     "name": "stdout",
     "output_type": "stream",
     "text": [
      "{'name': 'John Doe', 'age': '35', 'email address': 'john@email.com'}\n"
     ]
    }
   ],
   "source": [
    "r.hset(\"john_doe\", \n",
    "        mapping = {\n",
    "            \"name\":\"John Doe\", \n",
    "            \"age\": 35, \n",
    "            \"email address\": \"john@email.com\"})\n",
    "\n",
    "print(r.hgetall(\"john_doe\"))"
   ]
  },
  {
   "cell_type": "markdown",
   "id": "47be6cb5",
   "metadata": {},
   "source": [
    "### Question 2\n",
    "\n",
    "Question: Write Python code to list the first 10 objects (blob name) in the \"gcp-public-data-landsat\" bucket, along with their sizes."
   ]
  },
  {
   "cell_type": "code",
   "execution_count": 8,
   "id": "bfbe9ce6",
   "metadata": {},
   "outputs": [],
   "source": [
    "from google.cloud import storage\n",
    "\n",
    "client = storage.Client(project=\"silicon-will-456803-i3\")\n",
    "bucket = client.get_bucket(\"gcp-public-data-landsat\")"
   ]
  },
  {
   "cell_type": "markdown",
   "id": "ca2702d0",
   "metadata": {},
   "source": [
    "Answer:"
   ]
  },
  {
   "cell_type": "code",
   "execution_count": 16,
   "id": "655ec5cd",
   "metadata": {},
   "outputs": [
    {
     "name": "stdout",
     "output_type": "stream",
     "text": [
      "Blobs in gcp-public-data-landsat:\n",
      "\tLC08/01/001/002/LC08_L1GT_001002_20160817_20170322_01_T2/LC08_L1GT_001002_20160817_20170322_01_T2_ANG.txt - 0.11 MB\n",
      "\tLC08/01/001/002/LC08_L1GT_001002_20160817_20170322_01_T2/LC08_L1GT_001002_20160817_20170322_01_T2_B1.TIF - 71.61 MB\n",
      "\tLC08/01/001/002/LC08_L1GT_001002_20160817_20170322_01_T2/LC08_L1GT_001002_20160817_20170322_01_T2_B10.TIF - 38.73 MB\n",
      "\tLC08/01/001/002/LC08_L1GT_001002_20160817_20170322_01_T2/LC08_L1GT_001002_20160817_20170322_01_T2_B11.TIF - 37.45 MB\n",
      "\tLC08/01/001/002/LC08_L1GT_001002_20160817_20170322_01_T2/LC08_L1GT_001002_20160817_20170322_01_T2_B2.TIF - 72.73 MB\n",
      "\tLC08/01/001/002/LC08_L1GT_001002_20160817_20170322_01_T2/LC08_L1GT_001002_20160817_20170322_01_T2_B3.TIF - 73.26 MB\n",
      "\tLC08/01/001/002/LC08_L1GT_001002_20160817_20170322_01_T2/LC08_L1GT_001002_20160817_20170322_01_T2_B4.TIF - 74.87 MB\n",
      "\tLC08/01/001/002/LC08_L1GT_001002_20160817_20170322_01_T2/LC08_L1GT_001002_20160817_20170322_01_T2_B5.TIF - 76.62 MB\n",
      "\tLC08/01/001/002/LC08_L1GT_001002_20160817_20170322_01_T2/LC08_L1GT_001002_20160817_20170322_01_T2_B6.TIF - 72.88 MB\n",
      "\tLC08/01/001/002/LC08_L1GT_001002_20160817_20170322_01_T2/LC08_L1GT_001002_20160817_20170322_01_T2_B7.TIF - 70.47 MB\n"
     ]
    }
   ],
   "source": [
    "blobs = bucket.list_blobs()\n",
    "\n",
    "print(f\"Blobs in {bucket.name}:\")\n",
    "for ix, item in enumerate(blobs):\n",
    "    size_mb = int(item.size) / (1024 * 1024) if item.size else 0\n",
    "    print(f\"\\t{item.name} - {size_mb:.2f} MB\")\n",
    "    if ix == 9:  # stop after 10 items\n",
    "        break"
   ]
  },
  {
   "cell_type": "markdown",
   "id": "a4856b9a",
   "metadata": {},
   "source": [
    "### Thanks for reviewing!!"
   ]
  }
 ],
 "metadata": {
  "kernelspec": {
   "display_name": "bde",
   "language": "python",
   "name": "python3"
  },
  "language_info": {
   "codemirror_mode": {
    "name": "ipython",
    "version": 3
   },
   "file_extension": ".py",
   "mimetype": "text/x-python",
   "name": "python",
   "nbconvert_exporter": "python",
   "pygments_lexer": "ipython3",
   "version": "3.10.13"
  }
 },
 "nbformat": 4,
 "nbformat_minor": 5
}
